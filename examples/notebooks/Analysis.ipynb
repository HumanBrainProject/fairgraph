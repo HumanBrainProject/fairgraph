{
 "cells": [
  {
   "cell_type": "markdown",
   "metadata": {
    "ein.tags": "worksheet-0",
    "slideshow": {
     "slide_type": "-"
    }
   },
   "source": [
    "# Documenting *analysis* workflow using the Ebrains Knowledge Graph \n",
    "\n",
    "# --> provenance tracking using fairgraph"
   ]
  },
  {
   "cell_type": "code",
   "execution_count": 1,
   "metadata": {},
   "outputs": [],
   "source": [
    "%%capture\n",
    "!rm -rf fairgraph\n",
    "!git clone https://github.com/yzerlaut/fairgraph.git # TEMPORARY \n",
    "!pip install -r ./fairgraph/requirements.txt\n",
    "!pip install -U ./fairgraph\n",
    "import os, sys, datetime\n",
    "import numpy as np\n",
    "%matplotlib inline\n",
    "import matplotlib.pylab as plt"
   ]
  },
  {
   "cell_type": "markdown",
   "metadata": {
    "ein.tags": "worksheet-0",
    "slideshow": {
     "slide_type": "-"
    }
   },
   "source": [
    "### A simple demo case: evaluating spiking rate from Vm traces"
   ]
  },
  {
   "cell_type": "markdown",
   "metadata": {
    "ein.tags": "worksheet-0",
    "slideshow": {
     "slide_type": "-"
    }
   },
   "source": [
    "Given a set of Vm recording, the analysis determines the mean frequency of action potential firing."
   ]
  },
  {
   "cell_type": "code",
   "execution_count": 2,
   "metadata": {
    "autoscroll": false,
    "ein.hycell": false,
    "ein.tags": "worksheet-0",
    "slideshow": {
     "slide_type": "-"
    }
   },
   "outputs": [
    {
     "data": {
      "text/plain": [
       "0"
      ]
     },
     "execution_count": 2,
     "metadata": {},
     "output_type": "execute_result"
    }
   ],
   "source": [
    "# The demo data and analysis source code are available in a public container at CSCS\n",
    "container_url = 'https://object.cscs.ch/v1/AUTH_6ebec77683fb472f94d352be92b5a577/fairgraph_demo'\n",
    "#### SCRIPT ####\n",
    "if not os.path.isfile('analysis_script.py'):\n",
    "   os.system('wget %s/analysis_script.py' % container_url)\n",
    "#### DATA ####\n",
    "os.system('wget %s/validation_data/Vm_data_10neurons_100s.npz' % container_url)"
   ]
  },
  {
   "cell_type": "code",
   "execution_count": 3,
   "metadata": {
    "autoscroll": false,
    "ein.hycell": false,
    "ein.tags": "worksheet-0",
    "slideshow": {
     "slide_type": "-"
    }
   },
   "outputs": [
    {
     "ename": "FileNotFoundError",
     "evalue": "[Errno 2] No such file or directory: 'Vm_data_10neurons_1000s.npz'",
     "output_type": "error",
     "traceback": [
      "\u001b[0;31m---------------------------------------------------------------------------\u001b[0m",
      "\u001b[0;31mFileNotFoundError\u001b[0m                         Traceback (most recent call last)",
      "\u001b[0;32m<ipython-input-3-328c754d8c93>\u001b[0m in \u001b[0;36m<module>\u001b[0;34m\u001b[0m\n\u001b[1;32m      1\u001b[0m \u001b[0;32mfrom\u001b[0m \u001b[0manalysis_script\u001b[0m \u001b[0;32mimport\u001b[0m \u001b[0mplot_Vm_data\u001b[0m\u001b[0;34m\u001b[0m\u001b[0;34m\u001b[0m\u001b[0m\n\u001b[0;32m----> 2\u001b[0;31m \u001b[0mdata\u001b[0m \u001b[0;34m=\u001b[0m \u001b[0mnp\u001b[0m\u001b[0;34m.\u001b[0m\u001b[0mload\u001b[0m\u001b[0;34m(\u001b[0m\u001b[0;34m'Vm_data_10neurons_1000s.npz'\u001b[0m\u001b[0;34m,\u001b[0m \u001b[0mallow_pickle\u001b[0m\u001b[0;34m=\u001b[0m\u001b[0;32mTrue\u001b[0m\u001b[0;34m)\u001b[0m\u001b[0;34m\u001b[0m\u001b[0;34m\u001b[0m\u001b[0m\n\u001b[0m\u001b[1;32m      3\u001b[0m \u001b[0mplot_Vm_data\u001b[0m\u001b[0;34m(\u001b[0m\u001b[0mdata\u001b[0m\u001b[0;34m[\u001b[0m\u001b[0;34m'Vm_traces'\u001b[0m\u001b[0;34m]\u001b[0m\u001b[0;34m,\u001b[0m \u001b[0mdata\u001b[0m\u001b[0;34m[\u001b[0m\u001b[0;34m'args'\u001b[0m\u001b[0;34m]\u001b[0m\u001b[0;34m.\u001b[0m\u001b[0mitem\u001b[0m\u001b[0;34m(\u001b[0m\u001b[0;34m)\u001b[0m\u001b[0;34m,\u001b[0m \u001b[0mtmax\u001b[0m\u001b[0;34m=\u001b[0m\u001b[0;36m10\u001b[0m\u001b[0;34m,\u001b[0m \u001b[0mNmax\u001b[0m\u001b[0;34m=\u001b[0m\u001b[0;36m6\u001b[0m\u001b[0;34m)\u001b[0m\u001b[0;34m;\u001b[0m\u001b[0;34m\u001b[0m\u001b[0;34m\u001b[0m\u001b[0m\n",
      "\u001b[0;32m~/anaconda3/lib/python3.7/site-packages/numpy/lib/npyio.py\u001b[0m in \u001b[0;36mload\u001b[0;34m(file, mmap_mode, allow_pickle, fix_imports, encoding)\u001b[0m\n\u001b[1;32m    420\u001b[0m         \u001b[0mown_fid\u001b[0m \u001b[0;34m=\u001b[0m \u001b[0;32mFalse\u001b[0m\u001b[0;34m\u001b[0m\u001b[0;34m\u001b[0m\u001b[0m\n\u001b[1;32m    421\u001b[0m     \u001b[0;32melse\u001b[0m\u001b[0;34m:\u001b[0m\u001b[0;34m\u001b[0m\u001b[0;34m\u001b[0m\u001b[0m\n\u001b[0;32m--> 422\u001b[0;31m         \u001b[0mfid\u001b[0m \u001b[0;34m=\u001b[0m \u001b[0mopen\u001b[0m\u001b[0;34m(\u001b[0m\u001b[0mos_fspath\u001b[0m\u001b[0;34m(\u001b[0m\u001b[0mfile\u001b[0m\u001b[0;34m)\u001b[0m\u001b[0;34m,\u001b[0m \u001b[0;34m\"rb\"\u001b[0m\u001b[0;34m)\u001b[0m\u001b[0;34m\u001b[0m\u001b[0;34m\u001b[0m\u001b[0m\n\u001b[0m\u001b[1;32m    423\u001b[0m         \u001b[0mown_fid\u001b[0m \u001b[0;34m=\u001b[0m \u001b[0;32mTrue\u001b[0m\u001b[0;34m\u001b[0m\u001b[0;34m\u001b[0m\u001b[0m\n\u001b[1;32m    424\u001b[0m \u001b[0;34m\u001b[0m\u001b[0m\n",
      "\u001b[0;31mFileNotFoundError\u001b[0m: [Errno 2] No such file or directory: 'Vm_data_10neurons_1000s.npz'"
     ]
    }
   ],
   "source": [
    "from analysis_script import plot_Vm_data\n",
    "data = np.load('Vm_data_10neurons_1000s.npz', allow_pickle=True)\n",
    "plot_Vm_data(data['Vm_traces'], data['args'].item(), tmax=10, Nmax=6);"
   ]
  },
  {
   "cell_type": "markdown",
   "metadata": {
    "ein.tags": "worksheet-0",
    "slideshow": {
     "slide_type": "-"
    }
   },
   "source": [
    "## Setting up the client for the interaction with the KG"
   ]
  },
  {
   "cell_type": "code",
   "execution_count": null,
   "metadata": {
    "autoscroll": false,
    "ein.hycell": false,
    "ein.tags": "worksheet-0",
    "slideshow": {
     "slide_type": "-"
    }
   },
   "outputs": [],
   "source": [
    "import os\n",
    "from fairgraph import KGClient\n",
    "# needs to have HBP_AUTH_TOKEN set as a bash variable !\n",
    "# get your token at: https://nexus-iam.humanbrainproject.org/v0/oauth2/authorize\n",
    "dev = True\n",
    "if dev:\n",
    "    client = KGClient(os.environ[\"HBP_AUTH_TOKEN\"],\n",
    "                      nexus_endpoint='https://nexus-int.humanbrainproject.org/v0')\n",
    "else:\n",
    "    client = KGClient(os.environ[\"HBP_AUTH_TOKEN\"])"
   ]
  },
  {
   "cell_type": "markdown",
   "metadata": {
    "ein.tags": "worksheet-0",
    "slideshow": {
     "slide_type": "-"
    }
   },
   "source": [
    "## Analysis code / script"
   ]
  },
  {
   "cell_type": "code",
   "execution_count": null,
   "metadata": {
    "autoscroll": false,
    "ein.hycell": false,
    "ein.tags": "worksheet-0",
    "slideshow": {
     "slide_type": "-"
    }
   },
   "outputs": [],
   "source": [
    "from fairgraph.analysis import AnalysisScript\n",
    "from fairgraph.base import Distribution\n",
    "## --> starting with script metadata underlying the model\n",
    "analysis_script = AnalysisScript(name='Script for the determination of firing frequency from intracellular recordings',\n",
    "                                 code_format='python',\n",
    "                                 distribution=Distribution(container_url+'/analysis_script.py'),\n",
    "                                 license='CC BY-SA')\n",
    "analysis_script.save(client) # SAVE IN KG\n",
    "print('The KG ID is:', analysis_script.id)"
   ]
  },
  {
   "cell_type": "markdown",
   "metadata": {},
   "source": [
    "## Analysis parameters"
   ]
  },
  {
   "cell_type": "code",
   "execution_count": null,
   "metadata": {
    "autoscroll": false,
    "ein.hycell": false,
    "ein.tags": "worksheet-0",
    "slideshow": {
     "slide_type": "-"
    }
   },
   "outputs": [],
   "source": [
    "from fairgraph.analysis import AnalysisConfiguration\n",
    "from fairgraph.base import Distribution\n",
    "\n",
    "Parameters = {'threshold_for_spike_detection_mV':-20.,\n",
    "              'refractory_period_for_spike_detection_ms':1.}\n",
    "\n",
    "import json\n",
    "with open('spike_detection_parameters.json', 'w') as f:\n",
    "    json.dump(Parameters, f)\n",
    "\n",
    "analysis_config = AnalysisConfiguration(name='Parameter configuration for firing frequency analyis',\n",
    "                                        json_description=''.join(['%s=%s ; ' % kv for kv in Parameters.items()]),\n",
    "                                        config_file=Distribution('spike_detection_parameters.json'))\n",
    "analysis_config.save(client)\n",
    "print('The KG ID is:', analysis_config.id)"
   ]
  },
  {
   "cell_type": "markdown",
   "metadata": {},
   "source": [
    "## Performing the analysis"
   ]
  },
  {
   "cell_type": "code",
   "execution_count": null,
   "metadata": {},
   "outputs": [],
   "source": [
    "analysis_start_time = datetime.datetime.now()\n",
    "from analysis_script import calculate_spiking_rate_from_Vm\n",
    "\n",
    "args = data['args'].item()\n",
    "t= np.arange(int(args['tstop']/args['dt']))*args['dt']\n",
    "\n",
    "FiringRates = []\n",
    "for i, vm in enumerate(data['Vm_traces']):\n",
    "    fr = calculate_spiking_rate_from_Vm(t, vm,\n",
    "                                        threshold=Parameters['threshold_for_spike_detection_mV'])\n",
    "    FiringRates.append(fr)\n",
    "np.save('mean_firing_rates.npy', FiringRates)\n",
    "\n",
    "plt.hist(FiringRates)\n",
    "plt.xlabel('Mean firing rate (Hz)')\n",
    "plt.ylabel('recording #')\n",
    "plt.gcf().savefig('mean_firing_rate_histogram.png')\n",
    "\n",
    "analysis_end_time = datetime.datetime.now();"
   ]
  },
  {
   "cell_type": "markdown",
   "metadata": {},
   "source": [
    "## Analysis results"
   ]
  },
  {
   "cell_type": "code",
   "execution_count": null,
   "metadata": {},
   "outputs": [],
   "source": [
    "from fairgraph.analysis import AnalysisResult\n",
    "\n",
    "# for small files, we can store them directly on the knowledge graph\n",
    "analysis_result = AnalysisResult(name='results of firing rate analysis in demo notebook',\n",
    "                                 report_file='mean_firing_rates.npy',\n",
    "                                 data_type = 'firing rate', \n",
    "                                 variable='spike',\n",
    "                                 description='results of firing rate analysis in demo notebook')\n",
    "analysis_result.save(client)\n",
    "print('The KG ID is:', analysis_result.id)"
   ]
  },
  {
   "cell_type": "markdown",
   "metadata": {
    "ein.tags": "worksheet-0",
    "slideshow": {
     "slide_type": "-"
    }
   },
   "source": [
    "## Full Analysis Activity"
   ]
  },
  {
   "cell_type": "code",
   "execution_count": null,
   "metadata": {
    "autoscroll": false,
    "ein.hycell": false,
    "ein.tags": "worksheet-0",
    "slideshow": {
     "slide_type": "-"
    }
   },
   "outputs": [],
   "source": [
    "from fairgraph.analysis import AnalysisActivity, Person\n",
    "\n",
    "## --> agent\n",
    "yann = Person(family_name='Zerlaut',\n",
    "              given_name='Yann',\n",
    "              email='yann.zerlaut@cnrs.fr')\n",
    "yann.save(client)\n",
    "print('The KG ID is:', yann.id)\n",
    "\n",
    "\n",
    "## --> activity\n",
    "sim = AnalysisActivity(name='parameter configuration of toy analysis in demo notebook',\n",
    "                       description='',\n",
    "                       configuration_used=analysis_config,\n",
    "                       analysis_script=analysis_script,\n",
    "                       timestamp=datetime.datetime.now(),\n",
    "                       result = analysis_result,\n",
    "                       started_by = yann,\n",
    "                       started_at_time=analysis_start_time,\n",
    "                       ended_at_time=analysis_end_time)\n",
    "\n",
    "sim.save(client)\n",
    "print('The KG ID is:', sim.id)"
   ]
  },
  {
   "cell_type": "code",
   "execution_count": null,
   "metadata": {},
   "outputs": [],
   "source": []
  },
  {
   "cell_type": "code",
   "execution_count": null,
   "metadata": {},
   "outputs": [],
   "source": []
  }
 ],
 "metadata": {
  "kernelspec": {
   "display_name": "Python 3",
   "language": "python",
   "name": "python3"
  },
  "language_info": {
   "codemirror_mode": {
    "name": "ipython",
    "version": 3
   },
   "file_extension": ".py",
   "mimetype": "text/x-python",
   "name": "python",
   "nbconvert_exporter": "python",
   "pygments_lexer": "ipython3",
   "version": "3.7.3"
  },
  "name": "Analysis.ipynb"
 },
 "nbformat": 4,
 "nbformat_minor": 2
}
