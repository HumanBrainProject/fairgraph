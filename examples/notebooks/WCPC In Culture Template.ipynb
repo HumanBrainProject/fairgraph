{
 "cells": [
  {
   "cell_type": "markdown",
   "metadata": {},
   "source": [
    "# Setup and Imports"
   ]
  },
  {
   "cell_type": "code",
   "execution_count": 1,
   "metadata": {},
   "outputs": [],
   "source": [
    "%%capture\n",
    "!rm -rf fairgraph\n",
    "!git clone https://github.com/GMattheisen/fairgraph.git\n",
    "!pip install -r ./fairgraph/requirements.txt\n",
    "!pip install -U ./fairgraph"
   ]
  },
  {
   "cell_type": "code",
   "execution_count": 2,
   "metadata": {},
   "outputs": [
    {
     "name": "stderr",
     "output_type": "stream",
     "text": [
      "/Users/glynismattheisen/anaconda3/lib/python3.6/site-packages/h5py/__init__.py:36: FutureWarning: Conversion of the second argument of issubdtype from `float` to `np.floating` is deprecated. In future, it will be treated as `np.float64 == np.dtype(float).type`.\n",
      "  from ._conv import register_converters as _register_converters\n"
     ]
    }
   ],
   "source": [
    "from fairgraph import KGClient\n",
    "import os\n",
    "import re\n",
    "import io\n",
    "import logging\n",
    "from datetime import date, datetime\n",
    "from pprint import pprint\n",
    "import yaml\n",
    "from collections import defaultdict\n",
    "import requests\n",
    "import numpy as np\n",
    "from neo.io import get_io, Spike2IO, NeoMatlabIO, RawBinarySignalIO, NeoHdf5IO\n",
    "from fairgraph import KGClient\n",
    "from fairgraph.commons import (Species, Handedness, Sex, Strain, Age, Genotype, QuantitativeValue, \n",
    "    BrainRegion, CellType, QuantitativeValueRange, StimulusType)\n",
    "from fairgraph.core import (Person, Identifier, Material, Organization, Address, Subject, Protocol, Step, \n",
    "    use_namespace)\n",
    "from fairgraph.experiment import (Device, ElectrophysiologicalStimulation,  \n",
    "    ElectrophysiologicalStimulus)\n",
    "from fairgraph.electrophysiology import (PatchedCell, PatchedCellCollection, \n",
    "    PatchClampActivity, PatchClampExperiment, Trace, MultiChannelMultiTrialRecording, Distribution, \n",
    "    QualifiedMultiTraceGeneration, CellCulture, CulturingActivity)\n",
    "from fairgraph.base import KGQuery, as_list\n",
    "from fairgraph.minds import Dataset\n",
    "\n",
    "use_namespace('neuralactivity')"
   ]
  },
  {
   "cell_type": "code",
   "execution_count": 3,
   "metadata": {},
   "outputs": [],
   "source": [
    "logging.basicConfig(filename=\"to_knowledge_graph.log\",\n",
    "                    filemode='a',\n",
    "                    level=logging.DEBUG)\n",
    "\n",
    "logger = logging.getLogger(\"nar\")\n",
    "\n",
    "token = \"\"\n",
    "client = KGClient(token, nexus_endpoint='https://nexus-int.humanbrainproject.org/v0')\n",
    "\n",
    "# direct paths dependent on environment\n",
    "if 'int' in client.nexus_endpoint:\n",
    "    Subject._path = '/core/subject/v0.1.2'\n",
    "    PatchedCell._path = '/experiment/patchedcell/v0.1.0'\n",
    "    Material._path = '/core/material/v0.1.2'\n",
    "    Step._path = '/core/protocol/v0.1.6'\n",
    "    Protocol._path = '/core/protocol/v0.1.6'\n",
    "    ElectrophysiologicalStimulus._path = '/optophysiology/electrophysiologicalstimulus/v0.1.0'\n",
    "    ElectrophysiologicalStimulation._path = '/optophysiology/electrophysiologicalstimulation/v0.5.0'\n",
    "    Device._path = '/electrophysiology/device/v0.1.2'\n",
    "    PatchClampExperiment._path = '/electrophysiology/stimulusexperiment/v0.3.1'\n",
    "    QualifiedMultiTraceGeneration._path = '/electrophysiology/multitracegeneration/v0.2.3'\n",
    "    MultiChannelMultiTrialRecording._path = '/electrophysiology/multitrace/v0.3.1'\n",
    "    PatchedCellCollection._path = '/experiment/patchedcellcollection/v0.1.0'\n",
    "    PatchClampActivity._path = '/experiment/wholecellpatchclamp/v0.4.0'\n",
    "    CellCulture._path = '/experiment/cellculture/v0.1.0'\n",
    "    CulturingActivity._path = '/experiment/culturingactivity/v0.2.0'"
   ]
  },
  {
   "cell_type": "markdown",
   "metadata": {},
   "source": [
    "### Whole Cell Patch Clamp In Culture \n",
    "\n",
    "#### Components\n",
    "\n",
    "Subject<br>\n",
    "PatchedCell<br>\n",
    "Step<br>\n",
    "Protocol<br>\n",
    "ElectrophysiologicalStimulus<br>\n",
    "ElectrophysiologicalStimulation<br>\n",
    "Device<br>\n",
    "PatchClampExperiment<br>\n",
    "QualifiedMultiTraceGeneration<br>\n",
    "MultiChannelMultiTrialRecording<br>\n",
    "PatchedCellCollection<br>\n",
    "CellCulture<br>\n",
    "PatchClampActivity<br>\n",
    "CulturingActivity<br>"
   ]
  },
  {
   "cell_type": "markdown",
   "metadata": {},
   "source": [
    "# Locate Dataset and Define Contributors"
   ]
  },
  {
   "cell_type": "code",
   "execution_count": 4,
   "metadata": {},
   "outputs": [
    {
     "ename": "AttributeError",
     "evalue": "'NoneType' object has no attribute 'owners'",
     "output_type": "error",
     "traceback": [
      "\u001b[0;31m---------------------------------------------------------------------------\u001b[0m",
      "\u001b[0;31mAttributeError\u001b[0m                            Traceback (most recent call last)",
      "\u001b[0;32m<ipython-input-4-1a5ac75cc548>\u001b[0m in \u001b[0;36m<module>\u001b[0;34m\u001b[0m\n\u001b[1;32m      4\u001b[0m \u001b[0;34m\u001b[0m\u001b[0m\n\u001b[1;32m      5\u001b[0m \u001b[0;31m# map MINDSPerson to Person (for owner, contributors)\u001b[0m\u001b[0;34m\u001b[0m\u001b[0;34m\u001b[0m\u001b[0;34m\u001b[0m\u001b[0m\n\u001b[0;32m----> 6\u001b[0;31m \u001b[0mowner\u001b[0m \u001b[0;34m=\u001b[0m \u001b[0;34m[\u001b[0m\u001b[0mobj\u001b[0m\u001b[0;34m.\u001b[0m\u001b[0mresolve\u001b[0m\u001b[0;34m(\u001b[0m\u001b[0mclient\u001b[0m\u001b[0;34m)\u001b[0m \u001b[0;32mfor\u001b[0m \u001b[0mobj\u001b[0m \u001b[0;32min\u001b[0m \u001b[0mas_list\u001b[0m\u001b[0;34m(\u001b[0m\u001b[0mminds_dataset\u001b[0m\u001b[0;34m.\u001b[0m\u001b[0mowners\u001b[0m\u001b[0;34m)\u001b[0m\u001b[0;34m]\u001b[0m\u001b[0;34m\u001b[0m\u001b[0;34m\u001b[0m\u001b[0m\n\u001b[0m\u001b[1;32m      7\u001b[0m \u001b[0mcontributors\u001b[0m \u001b[0;34m=\u001b[0m \u001b[0;34m[\u001b[0m\u001b[0mobj\u001b[0m\u001b[0;34m.\u001b[0m\u001b[0mresolve\u001b[0m\u001b[0;34m(\u001b[0m\u001b[0mclient\u001b[0m\u001b[0;34m)\u001b[0m \u001b[0;32mfor\u001b[0m \u001b[0mobj\u001b[0m \u001b[0;32min\u001b[0m \u001b[0mas_list\u001b[0m\u001b[0;34m(\u001b[0m\u001b[0mminds_dataset\u001b[0m\u001b[0;34m.\u001b[0m\u001b[0mcontributors\u001b[0m\u001b[0;34m)\u001b[0m\u001b[0;34m]\u001b[0m\u001b[0;34m\u001b[0m\u001b[0;34m\u001b[0m\u001b[0m\n",
      "\u001b[0;31mAttributeError\u001b[0m: 'NoneType' object has no attribute 'owners'"
     ]
    }
   ],
   "source": [
    "dataset_name = None\n",
    "\n",
    "minds_dataset = Dataset.by_name(dataset_name, client, resolved=True, api=\"query\")\n",
    "\n",
    "# map MINDSPerson to Person (for owner, contributors)\n",
    "owner = [obj.resolve(client) for obj in as_list(minds_dataset.owners)]\n",
    "contributors = [obj.resolve(client) for obj in as_list(minds_dataset.contributors)]"
   ]
  },
  {
   "cell_type": "code",
   "execution_count": 7,
   "metadata": {},
   "outputs": [
    {
     "ename": "NameError",
     "evalue": "name 'contributors' is not defined",
     "output_type": "error",
     "traceback": [
      "\u001b[0;31m---------------------------------------------------------------------------\u001b[0m",
      "\u001b[0;31mNameError\u001b[0m                                 Traceback (most recent call last)",
      "\u001b[0;32m<ipython-input-7-8de6dd59160f>\u001b[0m in \u001b[0;36m<module>\u001b[0;34m\u001b[0m\n\u001b[0;32m----> 1\u001b[0;31m \u001b[0;32mfor\u001b[0m \u001b[0mminds_person\u001b[0m \u001b[0;32min\u001b[0m \u001b[0mcontributors\u001b[0m\u001b[0;34m:\u001b[0m\u001b[0;34m\u001b[0m\u001b[0;34m\u001b[0m\u001b[0m\n\u001b[0m\u001b[1;32m      2\u001b[0m     \u001b[0mprint\u001b[0m\u001b[0;34m(\u001b[0m\u001b[0mminds_person\u001b[0m\u001b[0;34m)\u001b[0m\u001b[0;34m\u001b[0m\u001b[0;34m\u001b[0m\u001b[0m\n",
      "\u001b[0;31mNameError\u001b[0m: name 'contributors' is not defined"
     ]
    }
   ],
   "source": [
    "for minds_person in contributors:\n",
    "    print(minds_person)"
   ]
  },
  {
   "cell_type": "code",
   "execution_count": 7,
   "metadata": {
    "scrolled": true
   },
   "outputs": [],
   "source": [
    "\"\"\"People\"\"\"\n",
    "abc = Person(given_name=\"\", family_name=\"\", email=\"\")\n",
    "abc.save(client)\n",
    "deg = Person(given_name=\"\", family_name=\"\", email=None)\n",
    "deg.save(client)\n",
    "hij = Person(given_name=\"\", family_name=\"\", email=None)\n",
    "hij.save(client)\n",
    "\n",
    "people = [abc, deg, hij]\n",
    "\n",
    "specimen_group = [obj.resolve(client) for obj in as_list(minds_dataset.specimen_group)]\n",
    "minds_subjects = []\n",
    "for sg in specimen_group:\n",
    "    minds_subjects.extend([obj.resolve(client) for obj in as_list(sg.subjects)])"
   ]
  },
  {
   "cell_type": "markdown",
   "metadata": {},
   "source": [
    "# Define Subjects, Samples, Experiment"
   ]
  },
  {
   "cell_type": "code",
   "execution_count": 8,
   "metadata": {},
   "outputs": [
    {
     "name": "stdout",
     "output_type": "stream",
     "text": [
      "M1LH_191001\n",
      "None\n",
      "M1RH_190925\n",
      "None\n",
      "S1_191001\n",
      "None\n",
      "TH_191001\n",
      "None\n"
     ]
    }
   ],
   "source": [
    "for minds_subject in minds_subjects:\n",
    "    print(minds_subject.name)\n",
    "    print(minds_subject.samples)\n",
    "    for minds_sample in as_list(minds_subject.samples):\n",
    "        print(as_list(minds_subject.samples))\n",
    "        minds_sample = minds_sample.resolve(client)\n",
    "        print(minds_sample.name)"
   ]
  },
  {
   "cell_type": "code",
   "execution_count": 17,
   "metadata": {},
   "outputs": [
    {
     "name": "stdout",
     "output_type": "stream",
     "text": [
      "loading trace_dict\n",
      "{'M1LH_191001': {'channel_names': ['ch0', 'ch1'], 'data_unit': ['dimensionless', 'dimensionless'], 'n_segments': 1, 'time_step': QuantitativeValue(0.1 'ms')}, 'M1RH_190925': {'channel_names': ['ch0', 'ch1'], 'data_unit': ['dimensionless', 'dimensionless'], 'n_segments': 1, 'time_step': QuantitativeValue(0.1 'ms')}, 'S1_191001': {'channel_names': ['ch0', 'ch1'], 'data_unit': ['dimensionless', 'dimensionless'], 'n_segments': 1, 'time_step': QuantitativeValue(0.1 'ms')}, 'TH_191001': {'channel_names': ['ch0', 'ch1'], 'data_unit': ['dimensionless', 'dimensionless'], 'n_segments': 1, 'time_step': QuantitativeValue(0.1 'ms')}}\n"
     ]
    }
   ],
   "source": [
    "\"\"\"Import trace information from previous run if available\"\"\"\n",
    "\n",
    "if os.path.exists(f'{minds_dataset.name}_trace_dict.yaml'):\n",
    "    print(\"loading trace_dict\")\n",
    "    with open(f'{minds_dataset.name}_trace_dict.yaml') as file:\n",
    "        trace_dict = yaml.load(file, Loader=yaml.FullLoader)\n",
    "        preload = True\n",
    "        print(trace_dict)\n",
    "else:\n",
    "    print(\"no saved trace_dict, building trace_dict\")\n",
    "    trace_dict = {}\n",
    "    preload = False"
   ]
  },
  {
   "cell_type": "code",
   "execution_count": 1,
   "metadata": {
    "scrolled": true
   },
   "outputs": [
    {
     "ename": "SyntaxError",
     "evalue": "invalid syntax (<ipython-input-1-20734dc66d7c>, line 102)",
     "output_type": "error",
     "traceback": [
      "\u001b[0;36m  File \u001b[0;32m\"<ipython-input-1-20734dc66d7c>\"\u001b[0;36m, line \u001b[0;32m102\u001b[0m\n\u001b[0;31m    )\u001b[0m\n\u001b[0m    ^\u001b[0m\n\u001b[0;31mSyntaxError\u001b[0m\u001b[0;31m:\u001b[0m invalid syntax\n"
     ]
    }
   ],
   "source": [
    "# map MINDSSubject to Subject\n",
    "for minds_subject in minds_subjects:\n",
    "    print(minds_subject.name)\n",
    "\n",
    "    \"\"\"Subject\"\"\"\n",
    "    species = minds_subject.species.resolve(client).name\n",
    "    strain = minds_subject.strains\n",
    "    genotype = minds_subject.genotype\n",
    "    sex = minds_subject.sex.resolve(client).name\n",
    "    if sex == \"Unknown\" or sex == '<Unknown>':\n",
    "        sex = None\n",
    "    else:\n",
    "        sex=Sex(sex)\n",
    "    handedness = None\n",
    "    age_units = \"days\"\n",
    "    age_value = minds_subject.age\n",
    "    if \"-\" in age_value:\n",
    "        min, max = age_value.split(\"-\")\n",
    "        age_value = QuantitativeValueRange(int(min), int(max), age_units)\n",
    "    else:\n",
    "        age_value = QuantitativeValue(int(age_value), age_units)    \n",
    "    age_category = \"Post-natal\"\n",
    "    death_date = None # date type\n",
    "    group = None # 'control group' v 'treatment group'\n",
    "\n",
    "    subject = Subject(\n",
    "      minds_subject.name,\n",
    "      species=Species(species),\n",
    "      strain=Strain(strain),\n",
    "      genotype=Genotype(genotype),\n",
    "      sex = sex,\n",
    "      age=Age(age_value, age_category),\n",
    "      death_date=None\n",
    "      )\n",
    "    print(subject)\n",
    "    subject.save(client)\n",
    "    assert subject.id is not None\n",
    "    \n",
    "    brain_location = [BrainRegion(\"\")]  \n",
    "    \n",
    "    cells = []\n",
    "    for minds_sample in as_list(minds_subject.samples):\n",
    "        minds_sample = minds_sample.resolve(client)\n",
    "\n",
    "        patched_cell = PatchedCell(\n",
    "            name = f\"Patched cell in slice for {minds_sample.name}\",\n",
    "            brain_location = brain_location,\n",
    "            cell_type=CellType(\"\"),\n",
    "            morphology_type = MorphologyType(\"\"),\n",
    "            pipette_id = \"\", # string or int\n",
    "            seal_resistance = QuantitativeValue(int(value), \"units\"),\n",
    "            pipette_resistance = QuantitativeValue(int(value), \"units\"),\n",
    "            liquid_junction_potential = QuantitativeValue(int(value), \"units\"),\n",
    "            start_membrane_potential = QuantitativeValue(int(value), \"units\"),\n",
    "            end_membrane_potential = QuantitativeValue(int(value), \"units\"),\n",
    "            pipette_solution = \"\", \n",
    "            labeling_compound = \"\", \n",
    "            reversal_potential_cl = QuantitativeValue(int(value), \"units\"),\n",
    "            description = \"\"\n",
    "            )\n",
    "        patched_cell.save(client)\n",
    "        cells.append(patched_cell)        \n",
    "        \n",
    "        step_one = Step(\n",
    "            name = \"Step one for protocol\",\n",
    "            previous_step_name = None,\n",
    "            sequence_number = 1,\n",
    "            version = \"\", # string or int\n",
    "            identifier = \"\",\n",
    "            distribution = Distribution(\"\"),\n",
    "            description = \"\",\n",
    "            materials = Material(), # or list\n",
    "            author = people \n",
    "        )\n",
    "        step_one.save(client)\n",
    "            \n",
    "        step_two = Step(\n",
    "            name = \"Step two for protocol\",\n",
    "            previous_step_name = \"Step one for protocl\",\n",
    "            sequence_number = 2,\n",
    "            version = \"\", # string or int\n",
    "            identifier = \"\",\n",
    "            distribution = Distribution(\"\"),\n",
    "            description = \"\",\n",
    "            materials - Material(), # or list\n",
    "            author = people\n",
    "        )\n",
    "        step_two.save(client)\n",
    "\n",
    "        steps = [step_one, step_two]\n",
    "        \n",
    "        protocol = Protocol(\n",
    "            name = \"Protcol for stimulation\",\n",
    "            version = \"\", # string or int\n",
    "            identifier = \"\",\n",
    "            distribution = Distribution(),\n",
    "            number_of_steps = 1,\n",
    "            steps = steps, \n",
    "            materials = Material(), # or list\n",
    "            author = Person(), # or list\n",
    "            date_published = # datetime\n",
    "        )\n",
    "        protocol.save(client)\n",
    "    \n",
    "        electrophysiological_stimulus = ElectrophysiologicalStimulus(\n",
    "            name=f\"Stimulus for patched cell in {minds_sample.name}\",\n",
    "            description = \"\",\n",
    "            distribution = None\n",
    "            )\n",
    "        electrophysiological_stimulus.save(client)\n",
    "\n",
    "        electrophysiological_stimulation = ElectrophysiologicalStimulation(\n",
    "            name=f\"Stimulation for patched cell in {minds_sample.name}\",\n",
    "            stimulus = electrophysiological_stimulus,\n",
    "            protocol= protocol,\n",
    "            citation = None,\n",
    "            code = None,\n",
    "            license = None\n",
    "            )\n",
    "        electrophysiological_stimulation.save(client)\n",
    "        print(electrophysiological_stimulation)\n",
    "\n",
    "        device = Device(\n",
    "            name = \"\",\n",
    "            manufacturer=\"\",\n",
    "            model_name=\"\",\n",
    "            software_version =None,\n",
    "            serial_number = None,\n",
    "            distribution = Distribution(\"\"),\n",
    "            )\n",
    "        device.save(client)\n",
    "        print(device)\n",
    "\n",
    "        expt = PatchClampExperiment(\n",
    "            name=f\"Whole cell recordings in patched cell for {minds_sample.name}\",\n",
    "            recorded_cell= patched_cell,\n",
    "            acquisition_device = device,\n",
    "            stimulation = electrophysiological_stimulation,\n",
    "            start_time = None,\n",
    "            end_time = None,\n",
    "            people = people,\n",
    "            protocol=None\n",
    "            )\n",
    "        expt.save(client)\n",
    "        print(expt)\n",
    "\n",
    "        \"\"\"Trace Generation\"\"\"\n",
    "        \"\"\"Accounts for muliple files existing per sample\"\"\"\n",
    "        \n",
    "        holding_potential_value = -70\n",
    "        holding_potential_unit = 'mV'\n",
    "        \n",
    "        if preload: # building from YAML\n",
    "            print(\"building trace metadata from YAML\")\n",
    "            trace_generation = QualifiedMultiTraceGeneration(\n",
    "                f\"Metadata for whole cell recordings in {minds_sample.name}\",\n",
    "                stimulus_experiment=expt,\n",
    "                sweeps=trace_dict[minds_sample.name]['n_segments'],\n",
    "                channel_type = None,\n",
    "                holding_potential = QuantitativeValue(holding_potential_value, holding_potential_unit),\n",
    "                sampling_frequency = None, \n",
    "                power_line_frequency = None\n",
    "                )\n",
    "            trace_generation.save(client)\n",
    "            print(trace_generation)\n",
    "\n",
    "            trace = MultiChannelMultiTrialRecording(\n",
    "                f\"Traces recorded in {minds_sample.name}\",\n",
    "                data_location=Distribution(location = trace_dict[minds_sample.name]['file_location'],\n",
    "                  content_type=trace_dict[minds_sample.name]['content_type']),\n",
    "                generated_by=expt,\n",
    "                generation_metadata=trace_generation,\n",
    "                channel_names=trace_dict[minds_sample.name]['channel_names'],\n",
    "                data_unit=trace_dict[minds_sample.name]['data_unit'],\n",
    "                time_step=QuantitativeValue(trace_dict[minds_sample.name]['time_step'], trace_dict[minds_sample.name]['time_step_unit']),\n",
    "                channel_type = None,\n",
    "                part_of=minds_dataset\n",
    "                )\n",
    "            print(trace)\n",
    "            trace.save(client)\n",
    "        \n",
    "        else:\n",
    "            file_dir = \"hbp-d00000/\"\n",
    "            filename = os.listdir(file_dir)\n",
    "            file_url=file_dir + filename\n",
    "            file_location = \"https://object.cscs.ch/v1/AUTH_0000000000000000000/\" + file_url\n",
    "\n",
    "            io = RawBinarySignalIO(filename = file_url)\n",
    "            data = io.read_block()\n",
    "            n_segments = len(data.segments)\n",
    "            sigs = data.segments[0].analogsignals\n",
    "            channel_names = [sig.name for sig in sigs]\n",
    "            units = [sig.units.dimensionality.string for sig in sigs]\n",
    "            time_step_unit = \"ms\"\n",
    "            time_step = float(sigs[0].sampling_period.rescale(time_step_unit))\n",
    "            content_type = \"\"\n",
    "            \n",
    "            print(\"trace_dict does not exist, building trace dict\") #\n",
    "            trace_dict[minds_sample.name] = {}\n",
    "            trace_dict[minds_sample.name]['channel_names'] = channel_names\n",
    "            trace_dict[minds_sample.name]['data_unit'] = units\n",
    "            trace_dict[minds_sample.name]['time_step'] = time_step\n",
    "            trace_dict[minds_sample.name]['time_step_unit'] = time_step_unit\n",
    "            trace_dict[minds_sample.name]['n_segments'] = n_segments\n",
    "            trace_dict[minds_sample.name]['file_url'] = file_url\n",
    "            trace_dict[minds_sample.name]['file_location'] = file_location\n",
    "            trace_dict[minds_sample.name]['content_type'] = content_type\n",
    "\n",
    "            trace_generation = QualifiedMultiTraceGeneration(\n",
    "                f\"Metadata for whole cell recordings in {minds_sample.name}\",\n",
    "                stimulus_experiment = expt,\n",
    "                sweeps = n_segments,\n",
    "                channel_type = None,\n",
    "                holding_potential = QuantitativeValue(holding_potential_value, holding_potential_unit),\n",
    "                sampling_frequency = None, \n",
    "                power_line_frequency = None\n",
    "                )\n",
    "            trace_generation.save(client)\n",
    "            print(trace_generation)\n",
    "\n",
    "            trace = MultiChannelMultiTrialRecording(\n",
    "                f\"Traces recorded in patched cell for {minds_sample.name}\",\n",
    "                data_location=Distribution(location = file_location,\n",
    "                  content_type=content_type),\n",
    "                generated_by=expt,\n",
    "                generation_metadata=trace_generation,\n",
    "                channel_names=channel_names,\n",
    "                data_unit=units,\n",
    "                time_step=QuantitativeValue(**{\n",
    "                \"unit_text\": time_step_unit,\n",
    "                \"value\": time_step\n",
    "                }),\n",
    "                channel_type = None,\n",
    "                part_of=minds_dataset\n",
    "                )\n",
    "            print(trace)\n",
    "            trace.save(client)\n",
    "\n",
    "    patched_cell_collection = PatchedCellCollection(\n",
    "        name = f\"Patched cell collection for {minds_subject.name}\",\n",
    "        cells = cells\n",
    "        )\n",
    "    patched_cell_collection.save(client)\n",
    "\n",
    "    patched_slice = PatchedSlice(\n",
    "        name = f\"Patched slice for {minds_subject.name}\",\n",
    "        slice = slice,\n",
    "        recorded_cells = patched_cell_collection,\n",
    "        brain_location = brain_location, \n",
    "        bath_solution = None,\n",
    "        description = None\n",
    "        )\n",
    "    patched_slice.save(client)\n",
    "    \n",
    "    cell_culture = CellCulture(\n",
    "        name=f'Cell culture prepared from {minds_subject.name}',\n",
    "        subject=subject,\n",
    "        cells = cells\n",
    "        )\n",
    "    cell_culture.save(client)\n",
    "    \n",
    "    patch_clamp_activity = PatchClampActivity(\n",
    "        name = f\"Patch clamp activity for patched cell in {minds_subject.name}\",\n",
    "        recorded_tissue = cell_culture,\n",
    "        protocol = None,\n",
    "        people = people,\n",
    "        start_time = None, # datetime format\n",
    "        end_time = None # datetime format\n",
    "        )\n",
    "    patch_clamp_activity.save(client)\n",
    "    print(patch_clamp_activity)            \n",
    "\n",
    "    culturing_activity = CulturingActivity(\n",
    "        subject=subject,\n",
    "        cell_culture = cell_culture,\n",
    "        brain_location=brain_location,\n",
    "        culture_type = CultureType(),\n",
    "        hemisphere = \"\",\n",
    "        culture_age = QuantitativeValueRange(int(11), int(14), \"DIV\"),\n",
    "        culture_solution = \"\",\n",
    "        start_time = None, # datetime format\n",
    "        end_time = None, # datetime format\n",
    "        people=people\n",
    "        )\n",
    "    culturing_activity.save(client)"
   ]
  },
  {
   "cell_type": "code",
   "execution_count": 11,
   "metadata": {},
   "outputs": [
    {
     "data": {
      "text/plain": [
       "{'M1LH_191001': {'channel_names': ['ch0', 'ch1'],\n",
       "  'data_unit': ['dimensionless', 'dimensionless'],\n",
       "  'time_step': QuantitativeValue(0.1 'ms'),\n",
       "  'n_segments': 1},\n",
       " 'M1RH_190925': {'channel_names': ['ch0', 'ch1'],\n",
       "  'data_unit': ['dimensionless', 'dimensionless'],\n",
       "  'time_step': QuantitativeValue(0.1 'ms'),\n",
       "  'n_segments': 1},\n",
       " 'S1_191001': {'channel_names': ['ch0', 'ch1'],\n",
       "  'data_unit': ['dimensionless', 'dimensionless'],\n",
       "  'time_step': QuantitativeValue(0.1 'ms'),\n",
       "  'n_segments': 1},\n",
       " 'TH_191001': {'channel_names': ['ch0', 'ch1'],\n",
       "  'data_unit': ['dimensionless', 'dimensionless'],\n",
       "  'time_step': QuantitativeValue(0.1 'ms'),\n",
       "  'n_segments': 1}}"
      ]
     },
     "execution_count": 11,
     "metadata": {},
     "output_type": "execute_result"
    }
   ],
   "source": [
    "trace_dict"
   ]
  },
  {
   "cell_type": "code",
   "execution_count": 12,
   "metadata": {},
   "outputs": [],
   "source": [
    "with open(f'{minds_dataset.name}_trace_dict.yaml', 'w') as file: #save trace dict\n",
    "    documents = yaml.dump(trace_dict, file)"
   ]
  },
  {
   "cell_type": "code",
   "execution_count": 13,
   "metadata": {},
   "outputs": [
    {
     "name": "stdout",
     "output_type": "stream",
     "text": [
      "Last run on https://nexus-int.humanbrainproject.org/v0 on 2020-07-29 11:07:59.677805\n"
     ]
    }
   ],
   "source": [
    "print(f\"Last run on {client.nexus_endpoint} on {datetime.now()}\")"
   ]
  }
 ],
 "metadata": {
  "kernelspec": {
   "display_name": "Python 3",
   "language": "python",
   "name": "python3"
  },
  "language_info": {
   "codemirror_mode": {
    "name": "ipython",
    "version": 3
   },
   "file_extension": ".py",
   "mimetype": "text/x-python",
   "name": "python",
   "nbconvert_exporter": "python",
   "pygments_lexer": "ipython3",
   "version": "3.7.3"
  }
 },
 "nbformat": 4,
 "nbformat_minor": 2
}
